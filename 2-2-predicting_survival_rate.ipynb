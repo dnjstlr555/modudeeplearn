{
 "metadata": {
  "language_info": {
   "codemirror_mode": {
    "name": "ipython",
    "version": 3
   },
   "file_extension": ".py",
   "mimetype": "text/x-python",
   "name": "python",
   "nbconvert_exporter": "python",
   "pygments_lexer": "ipython3",
   "version": "3.8.6-final"
  },
  "orig_nbformat": 2,
  "kernelspec": {
   "name": "python3",
   "display_name": "Python 3",
   "language": "python"
  }
 },
 "nbformat": 4,
 "nbformat_minor": 2,
 "cells": [
  {
   "source": [
    "from keras.models import Sequential\n",
    "from keras.layers import Dense\n",
    "\n",
    "import numpy as np\n",
    "import tensorflow as tf\n",
    "\n",
    "seed=0\n",
    "np.random.seed(seed)\n",
    "tf.random.set_seed(seed)"
   ],
   "cell_type": "code",
   "metadata": {},
   "execution_count": 4,
   "outputs": []
  },
  {
   "cell_type": "code",
   "execution_count": 6,
   "metadata": {},
   "outputs": [],
   "source": [
    "Data=np.loadtxt(\"dataset/ThoraricSurgery.csv\", delimiter=\",\")\n",
    "x = Data[:,0:17]\n",
    "y = Data[:,17]"
   ]
  },
  {
   "source": [
    "loss는 오차를 나타내는 함수<br>\n",
    "optimizer는 오차를 어떻게 줄여 나갈지를 정하는 것"
   ],
   "cell_type": "markdown",
   "metadata": {}
  },
  {
   "cell_type": "code",
   "execution_count": 8,
   "metadata": {},
   "outputs": [
    {
     "output_type": "stream",
     "name": "stdout",
     "text": [
      "Epoch 1/30\n",
      "47/47 [==============================] - 0s 2ms/step - loss: 0.1489 - accuracy: 0.8511\n",
      "Epoch 2/30\n",
      "47/47 [==============================] - 0s 3ms/step - loss: 0.1489 - accuracy: 0.8511\n",
      "Epoch 3/30\n",
      "47/47 [==============================] - 0s 2ms/step - loss: 0.1490 - accuracy: 0.8511\n",
      "Epoch 4/30\n",
      "47/47 [==============================] - 0s 2ms/step - loss: 0.1489 - accuracy: 0.8511\n",
      "Epoch 5/30\n",
      "47/47 [==============================] - 0s 2ms/step - loss: 0.1489 - accuracy: 0.8511\n",
      "Epoch 6/30\n",
      "47/47 [==============================] - 0s 1ms/step - loss: 0.1489 - accuracy: 0.8511\n",
      "Epoch 7/30\n",
      "47/47 [==============================] - 0s 1ms/step - loss: 0.1489 - accuracy: 0.8511\n",
      "Epoch 8/30\n",
      "47/47 [==============================] - 0s 4ms/step - loss: 0.1489 - accuracy: 0.8511\n",
      "Epoch 9/30\n",
      "47/47 [==============================] - 0s 2ms/step - loss: 0.1489 - accuracy: 0.8511\n",
      "Epoch 10/30\n",
      "47/47 [==============================] - 0s 953us/step - loss: 0.1489 - accuracy: 0.8511\n",
      "Epoch 11/30\n",
      "47/47 [==============================] - 0s 2ms/step - loss: 0.1489 - accuracy: 0.8511\n",
      "Epoch 12/30\n",
      "47/47 [==============================] - 0s 5ms/step - loss: 0.1489 - accuracy: 0.8511\n",
      "Epoch 13/30\n",
      "47/47 [==============================] - 0s 1ms/step - loss: 0.1489 - accuracy: 0.8511\n",
      "Epoch 14/30\n",
      "47/47 [==============================] - 0s 1ms/step - loss: 0.1489 - accuracy: 0.8511\n",
      "Epoch 15/30\n",
      "47/47 [==============================] - 0s 1ms/step - loss: 0.1489 - accuracy: 0.8511\n",
      "Epoch 16/30\n",
      "47/47 [==============================] - 0s 1ms/step - loss: 0.1489 - accuracy: 0.8511\n",
      "Epoch 17/30\n",
      "47/47 [==============================] - 0s 970us/step - loss: 0.1489 - accuracy: 0.8511\n",
      "Epoch 18/30\n",
      "47/47 [==============================] - 0s 5ms/step - loss: 0.1489 - accuracy: 0.8511\n",
      "Epoch 19/30\n",
      "47/47 [==============================] - 0s 939us/step - loss: 0.1489 - accuracy: 0.8511\n",
      "Epoch 20/30\n",
      "47/47 [==============================] - 0s 2ms/step - loss: 0.1489 - accuracy: 0.8511\n",
      "Epoch 21/30\n",
      "47/47 [==============================] - 0s 923us/step - loss: 0.1489 - accuracy: 0.8511\n",
      "Epoch 22/30\n",
      "47/47 [==============================] - 0s 992us/step - loss: 0.1489 - accuracy: 0.8511\n",
      "Epoch 23/30\n",
      "47/47 [==============================] - 0s 3ms/step - loss: 0.1489 - accuracy: 0.8511\n",
      "Epoch 24/30\n",
      "47/47 [==============================] - 0s 1ms/step - loss: 0.1489 - accuracy: 0.8511\n",
      "Epoch 25/30\n",
      "47/47 [==============================] - 0s 1ms/step - loss: 0.1489 - accuracy: 0.8511\n",
      "Epoch 26/30\n",
      "47/47 [==============================] - 0s 2ms/step - loss: 0.1489 - accuracy: 0.8511\n",
      "Epoch 27/30\n",
      "47/47 [==============================] - 0s 6ms/step - loss: 0.1489 - accuracy: 0.8511\n",
      "Epoch 28/30\n",
      "47/47 [==============================] - 0s 7ms/step - loss: 0.1489 - accuracy: 0.8511\n",
      "Epoch 29/30\n",
      "47/47 [==============================] - 0s 7ms/step - loss: 0.1489 - accuracy: 0.8511\n",
      "Epoch 30/30\n",
      "47/47 [==============================] - 0s 1ms/step - loss: 0.1489 - accuracy: 0.8511\n",
      "15/15 [==============================] - 0s 961us/step - loss: 0.1489 - accuracy: 0.8511\n",
      "0.8510638475418091\n"
     ]
    }
   ],
   "source": [
    "model=Sequential()\n",
    "model.add(Dense(30, input_dim=17, activation='relu'))\n",
    "model.add(Dense(1, activation='sigmoid'))\n",
    "\n",
    "model.compile(loss='mean_squared_error', optimizer='adam', metrics=['accuracy'])\n",
    "model.fit(x,y,epochs=30, batch_size=10)\n",
    "\n",
    "print(model.evaluate(x,y)[1])"
   ]
  }
 ]
}