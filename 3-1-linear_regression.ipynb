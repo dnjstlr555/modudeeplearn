{
 "metadata": {
  "language_info": {
   "codemirror_mode": {
    "name": "ipython",
    "version": 3
   },
   "file_extension": ".py",
   "mimetype": "text/x-python",
   "name": "python",
   "nbconvert_exporter": "python",
   "pygments_lexer": "ipython3",
   "version": "3.8.6-final"
  },
  "orig_nbformat": 2,
  "kernelspec": {
   "name": "python3",
   "display_name": "Python 3",
   "language": "python"
  }
 },
 "nbformat": 4,
 "nbformat_minor": 2,
 "cells": [
  {
   "source": [
    "```\n",
    "학생들의 중간고사 성적이 다 다르다\n",
    "```\n",
    "```\n",
    "학생들의 중간고사 성적이 [   ]에 따라 다르다\n",
    "```\n",
    "성적은 종속 변수(y), \\[ \\]는 독립 변수(x)이고 각 정보를 수치화 해서 경향성을 나타낼 수 있다고 함"
   ],
   "cell_type": "markdown",
   "metadata": {}
  },
  {
   "source": [
    "## 최소 제곱법\n",
    "\n",
    "![](img/leastsquares.png)\n",
    "<br>경향성을 나타내는 일차함수의 기울기를 나타냄 \n",
    "<br>절편은 mean(y)-mean(x)*기울기\n"
   ],
   "cell_type": "markdown",
   "metadata": {}
  },
  {
   "cell_type": "code",
   "execution_count": 4,
   "metadata": {},
   "outputs": [
    {
     "output_type": "stream",
     "name": "stdout",
     "text": [
      "5\n"
     ]
    }
   ],
   "source": [
    "i = [2, 4, 6, 8]\n",
    "r = [81, 93, 91, 97]\n",
    "\n",
    "class process:\n",
    "    w=1\n",
    "    b=1\n",
    "    def predict(self, x):\n",
    "        return (self.w*x+self.b)\n",
    "    def set(self, w, b):\n",
    "        self.w=w\n",
    "        self.b=b\n",
    "model=process()\n",
    "print(model.predict(i[1]))"
   ]
  },
  {
   "cell_type": "code",
   "execution_count": 10,
   "metadata": {},
   "outputs": [
    {
     "output_type": "stream",
     "name": "stdout",
     "text": [
      "83.6 -> 81\n88.2 -> 93\n92.8 -> 91\n97.4 -> 97\n"
     ]
    }
   ],
   "source": [
    "def least_b(meanx, meany, delta):\n",
    "    return meany-(meanx*delta)\n",
    "def least(x,y):\n",
    "    meanx=sum(x)/len(x)\n",
    "    meany=sum(y)/len(y)\n",
    "    divisor=sum([(i-meanx)**2 for i in x])\n",
    "    dividend=sum([(x[i]-meanx)*(y[i]-meany) for i in range(len(x))])\n",
    "    delta=dividend/divisor\n",
    "    return (delta, least_b(meanx, meany, delta))\n",
    "\n",
    "w, b=least(i, r)\n",
    "model.set(w,b)\n",
    "for x, d in enumerate(i):\n",
    "    print(f\"{model.predict(d)} -> {r[x]}\")"
   ]
  },
  {
   "source": [
    "하지만 이 방법은 입력 값이 여러개이면 사용하기 어렵다고 함.<br>\n",
    "여기서 경사 하강법이 사용됨<br>\n",
    "처음 w와 b를 랜덤으로 정한 뒤 오차를 줄여나가는 방향으로 상수를 수정<br>"
   ],
   "cell_type": "markdown",
   "metadata": {}
  },
  {
   "cell_type": "code",
   "execution_count": null,
   "metadata": {},
   "outputs": [],
   "source": []
  }
 ]
}